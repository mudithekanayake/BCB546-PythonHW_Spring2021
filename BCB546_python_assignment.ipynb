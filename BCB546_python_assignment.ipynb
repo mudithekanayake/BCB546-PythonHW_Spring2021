{
 "cells": [
  {
   "cell_type": "markdown",
   "metadata": {},
   "source": [
    "# BCB546 Python Assignment - Mudith Ekanayake"
   ]
  },
  {
   "cell_type": "code",
   "execution_count": 1,
   "metadata": {},
   "outputs": [],
   "source": [
    "# Importing all the packages\n",
    "\n",
    "from Bio import SeqIO\n",
    "from Bio.Data import CodonTable\n",
    "import pandas as pd\n",
    "import matplotlib.pyplot as plt\n",
    "import seaborn as sns"
   ]
  },
  {
   "cell_type": "code",
   "execution_count": 2,
   "metadata": {},
   "outputs": [],
   "source": [
    "# Creating a class so the output text can be visualized with bold text, underlined text etc.\n",
    "\n",
    "class color:\n",
    "   PURPLE = '\\033[95m'\n",
    "   CYAN = '\\033[96m'\n",
    "   DARKCYAN = '\\033[36m'\n",
    "   BLUE = '\\033[94m'\n",
    "   GREEN = '\\033[92m'\n",
    "   YELLOW = '\\033[93m'\n",
    "   RED = '\\033[91m'\n",
    "   BOLD = '\\033[1m'\n",
    "   UNDERLINE = '\\033[4m'\n",
    "   END = '\\033[0m'"
   ]
  },
  {
   "cell_type": "markdown",
   "metadata": {},
   "source": [
    "## FUNCTIONS ##"
   ]
  },
  {
   "cell_type": "markdown",
   "metadata": {},
   "source": [
    "# 1 #\n",
    "### GETTING THE SEQUENCES"
   ]
  },
  {
   "cell_type": "code",
   "execution_count": 3,
   "metadata": {},
   "outputs": [],
   "source": [
    "def get_sequences_from_file(fasta_fn): #1\n",
    "    sequence_data_dict = {} #2\n",
    "    for record in SeqIO.parse(fasta_fn, \"fasta\"): #3\n",
    "        description = record.description.split() #4\n",
    "        species_name = description[1] + \" \" + description[2] #5\n",
    "        sequence_data_dict[species_name] = record.seq #6\n",
    "    return(sequence_data_dict) #7"
   ]
  },
  {
   "cell_type": "markdown",
   "metadata": {},
   "source": [
    "A function is defined by the `def` keyword. An empty dictionary is declared by `sequence_data_dict = {}` and SeqIO reads the sequences from FASTA files and store the data in a SeqRecord. SeqIO also provides tools for writing sequence data to a file. `record.description.split()` splits all the words in the description of the record. 5th line takes the second word and the third word as the species name. 6th line adds the species name and the sequence to the dictionary and the final line return the resulting dictionary.\n",
    "\n"
   ]
  },
  {
   "cell_type": "code",
   "execution_count": 4,
   "metadata": {},
   "outputs": [
    {
     "data": {
      "text/plain": [
       "{'Ursus spelaeus': Seq('ATGACCAACATCCGAAAAACCCATCCATTAGCTAAAATCATCAACAACTCATTT...AGA'),\n",
       " 'Ursus arctos': Seq('ATGACCAACATCCGAAAAACCCACCCATTAGCTAAAATCATCAACAACTCACTT...AGA'),\n",
       " 'Ursus thibetanus': Seq('ATGACCAACATCCGAAAAACCCATCCATTAGCCAAAATCATCAACAACTCACTC...AGA'),\n",
       " 'Melursus ursinus': Seq('ATGACCAACATCCGAAAAACCCACCCATTAGCTAAAATCATTAACAACTCACTC...AGA'),\n",
       " 'Ursus americanus': Seq('ATGACCAACATCCGAAAAACCCACCCATTAGCTAAAATCATCAACAACTCACTT...AGA'),\n",
       " 'Helarctos malayanus': Seq('ATGACCAACATCCGAAAAACCCACCCATTAGCTAAAATCATTAACAACTCACTT...AGA'),\n",
       " 'Ailuropoda melanoleuca': Seq('ATGATCAACATCCGAAAAACTCATCCATTAGTTAAAATTATCAACAACTCATTC...AGA'),\n",
       " 'Tremarctos ornatus': Seq('ATGACCAACATCCGAAAAACTCACCCACTAGCTAAAATCATCAACAGCTCATTC...AGA'),\n",
       " 'Ursus maritimus': Seq('ATGACCAACATCCGAAAAACCCACCCATTAGCTAAAATCATCAACAACTCATTT...AGA')}"
      ]
     },
     "execution_count": 4,
     "metadata": {},
     "output_type": "execute_result"
    }
   ],
   "source": [
    "bears_seq = get_sequences_from_file(\"bears_cytb.fasta\") # using the function to get the sequences\n",
    "bears_seq"
   ]
  },
  {
   "cell_type": "markdown",
   "metadata": {},
   "source": [
    "# 2 #\n",
    "### STRING-TRANSLATE FUNCTION ###"
   ]
  },
  {
   "cell_type": "code",
   "execution_count": 5,
   "metadata": {},
   "outputs": [],
   "source": [
    "def translate_seq(NA): # define the function\n",
    "    verte_mito = CodonTable.unambiguous_dna_by_name[\"Vertebrate Mitochondrial\"] # get the genetic codon table for Vertebrate Mitochondrial\n",
    "    amino_acid = '' # empty variable for the amino acid sequence\n",
    "    for i in range(0, len(NA), 3): # for loop iterate from the initial NA to last NA with increments of 3\n",
    "        codon = NA[i : i+3] # get the exact codon at the position i\n",
    "        if codon not in verte_mito.stop_codons and len(codon) == 3:\n",
    "            amino_acid += verte_mito.forward_table[codon] # if the codon is not a stop codon and if it has 3 NAs add AAs to the sequence\n",
    "            \n",
    "    return(amino_acid) #return the amino acid sequence"
   ]
  },
  {
   "cell_type": "code",
   "execution_count": 6,
   "metadata": {},
   "outputs": [
    {
     "name": "stdout",
     "output_type": "stream",
     "text": [
      "\u001b[1mWCRCDRVCASELCAS\u001b[0m\n"
     ]
    }
   ],
   "source": [
    "seq = \"TGATAATGTCGATGCGATCGTGTGTGTGCTAGCGAGCTATGTGCTAGT\" # sequence of interest\n",
    "translated_seq = translate_seq(seq) # use the translate function\n",
    "print (color.BOLD + translated_seq + color.END) # print the output with bold text"
   ]
  },
  {
   "cell_type": "markdown",
   "metadata": {},
   "source": [
    "# 3 #\n",
    "### ALTERNATIVE FUNCTION ###"
   ]
  },
  {
   "cell_type": "code",
   "execution_count": 7,
   "metadata": {},
   "outputs": [],
   "source": [
    "def translate_function(NA): # define the function\n",
    "    from Bio.Seq import Seq # import seq from Bio.Seq package\n",
    "    seq = Seq(NA) # Save the sequence as a Seq object\n",
    "    amino_acid = seq.translate(table=2, to_stop=True) # translate the sequence using the genetic code 2 and stop the translation when a stop codon is encountered\n",
    "    return(str(amino_acid)) # return the amino acid sequence"
   ]
  },
  {
   "cell_type": "code",
   "execution_count": 8,
   "metadata": {},
   "outputs": [
    {
     "name": "stdout",
     "output_type": "stream",
     "text": [
      "\u001b[1mMSYVDVDVDVCGDV\u001b[0m\n"
     ]
    }
   ],
   "source": [
    "translated_aa = translate_function(\"atgtcgtacgtcgacgtcgacgtcgacgtttgcggggacgtc\") # sequence of interest\n",
    "print (color.BOLD + translated_aa + color.END) # print the output with bold text"
   ]
  },
  {
   "cell_type": "markdown",
   "metadata": {},
   "source": [
    "# 4 #\n",
    "### COUNT AA ANALYSIS FUNCTION ###"
   ]
  },
  {
   "cell_type": "code",
   "execution_count": 9,
   "metadata": {},
   "outputs": [],
   "source": [
    "from Bio.SeqUtils.ProtParam import ProteinAnalysis\n",
    "\n",
    "def mol_weight(amino_acid): # define the function\n",
    "    molecular_weight = ProteinAnalysis(amino_acid).molecular_weight() # ProteinAnalysis() analyses the amino acid sequence and molecular_weight() calculate the weight\n",
    "    return(molecular_weight) # return the calculated molecular weight"
   ]
  },
  {
   "cell_type": "code",
   "execution_count": 10,
   "metadata": {},
   "outputs": [
    {
     "name": "stdout",
     "output_type": "stream",
     "text": [
      "1515.6605999999995\n"
     ]
    }
   ],
   "source": [
    "molecular_weight = mol_weight(translated_aa) # using the function\n",
    "print (molecular_weight) # print molecular weight"
   ]
  },
  {
   "cell_type": "markdown",
   "metadata": {},
   "source": [
    "# 5 #\n",
    "### GC CONTENT ANALYSIS FUNCTION ###"
   ]
  },
  {
   "cell_type": "code",
   "execution_count": 11,
   "metadata": {},
   "outputs": [],
   "source": [
    "from Bio.SeqUtils import GC # import the GC function from Sequtils\n",
    "\n",
    "def gc_content(NA): # define the function\n",
    "    gc_cont = GC(NA) # calculate the GC content from the sequence\n",
    "    return(gc_cont) # return the calculated GC content"
   ]
  },
  {
   "cell_type": "code",
   "execution_count": 12,
   "metadata": {},
   "outputs": [
    {
     "name": "stdout",
     "output_type": "stream",
     "text": [
      "47.916666666666664\n"
     ]
    }
   ],
   "source": [
    "gc_perc = gc_content(seq) # using the function\n",
    "print (gc_perc) # print the GC content"
   ]
  },
  {
   "cell_type": "markdown",
   "metadata": {},
   "source": [
    "#   MAIN   #"
   ]
  },
  {
   "cell_type": "code",
   "execution_count": 13,
   "metadata": {},
   "outputs": [],
   "source": [
    "cytb_seqs = get_sequences_from_file(\"bears_cytb.fasta\") \n",
    "bears_df = pd.read_csv(\"bears_mass.csv\") # Includes only data for body mass \n",
    "species_list = list(bears_df.species)"
   ]
  },
  {
   "cell_type": "markdown",
   "metadata": {},
   "source": [
    "# 6 #\n",
    "### ADDING TWO NEW COLUMNS AND SETTING VALUES TO 'NaN' ###"
   ]
  },
  {
   "cell_type": "code",
   "execution_count": 14,
   "metadata": {},
   "outputs": [],
   "source": [
    "bears_df['molecular_weight'] = float(\"NaN\") # add molecular_weight column and assign the value as float NaN\n",
    "bears_df['gc_content'] = float(\"NaN\") # add gc_content column and assign the value as float NaN"
   ]
  },
  {
   "cell_type": "markdown",
   "metadata": {},
   "source": [
    "# 7 #\n",
    "### TRANSLATE EACH SEQUENCE AND GET MOLECULAR WEIGHT AND COMPUTE GC CONTENT ###"
   ]
  },
  {
   "cell_type": "code",
   "execution_count": 15,
   "metadata": {},
   "outputs": [],
   "source": [
    "for key in cytb_seqs: # iterate through the key\n",
    "    na_seq = str(cytb_seqs[key]) # get sequence data in the dictionary and make them strings\n",
    "    aa_seq = translate_seq(na_seq) # use the translate function from 2 and translate the NA sequence\n",
    "    bears_df.loc[bears_df.species == key,'molecular_weight'] = mol_weight(aa_seq) # compute molecular weight and add it to the molecular_weight column for each species\n",
    "    bears_df.loc[bears_df.species == key,'gc_content'] = gc_content(na_seq) # compute gc_content and add it to the gc_content column for each species\n"
   ]
  },
  {
   "cell_type": "code",
   "execution_count": 16,
   "metadata": {},
   "outputs": [
    {
     "data": {
      "text/html": [
       "<div>\n",
       "<style scoped>\n",
       "    .dataframe tbody tr th:only-of-type {\n",
       "        vertical-align: middle;\n",
       "    }\n",
       "\n",
       "    .dataframe tbody tr th {\n",
       "        vertical-align: top;\n",
       "    }\n",
       "\n",
       "    .dataframe thead th {\n",
       "        text-align: right;\n",
       "    }\n",
       "</style>\n",
       "<table border=\"1\" class=\"dataframe\">\n",
       "  <thead>\n",
       "    <tr style=\"text-align: right;\">\n",
       "      <th></th>\n",
       "      <th>species</th>\n",
       "      <th>mass</th>\n",
       "      <th>molecular_weight</th>\n",
       "      <th>gc_content</th>\n",
       "    </tr>\n",
       "  </thead>\n",
       "  <tbody>\n",
       "    <tr>\n",
       "      <th>0</th>\n",
       "      <td>Ursus spelaeus</td>\n",
       "      <td>550.800</td>\n",
       "      <td>42458.7992</td>\n",
       "      <td>43.771930</td>\n",
       "    </tr>\n",
       "    <tr>\n",
       "      <th>1</th>\n",
       "      <td>Ursus arctos</td>\n",
       "      <td>203.500</td>\n",
       "      <td>42414.7435</td>\n",
       "      <td>43.771930</td>\n",
       "    </tr>\n",
       "    <tr>\n",
       "      <th>2</th>\n",
       "      <td>Ursus thibetanus</td>\n",
       "      <td>99.714</td>\n",
       "      <td>42306.6735</td>\n",
       "      <td>45.614035</td>\n",
       "    </tr>\n",
       "    <tr>\n",
       "      <th>3</th>\n",
       "      <td>Melursus ursinus</td>\n",
       "      <td>100.030</td>\n",
       "      <td>42551.9900</td>\n",
       "      <td>45.175439</td>\n",
       "    </tr>\n",
       "    <tr>\n",
       "      <th>4</th>\n",
       "      <td>Ursus americanus</td>\n",
       "      <td>110.560</td>\n",
       "      <td>42427.7439</td>\n",
       "      <td>43.947368</td>\n",
       "    </tr>\n",
       "    <tr>\n",
       "      <th>5</th>\n",
       "      <td>Helarctos malayanus</td>\n",
       "      <td>47.020</td>\n",
       "      <td>42560.8910</td>\n",
       "      <td>44.298246</td>\n",
       "    </tr>\n",
       "    <tr>\n",
       "      <th>6</th>\n",
       "      <td>Ailuropoda melanoleuca</td>\n",
       "      <td>118.200</td>\n",
       "      <td>42702.1845</td>\n",
       "      <td>40.789474</td>\n",
       "    </tr>\n",
       "    <tr>\n",
       "      <th>7</th>\n",
       "      <td>Tremarctos ornatus</td>\n",
       "      <td>140.700</td>\n",
       "      <td>42384.8266</td>\n",
       "      <td>44.385965</td>\n",
       "    </tr>\n",
       "    <tr>\n",
       "      <th>8</th>\n",
       "      <td>Ursus maritimus</td>\n",
       "      <td>425.100</td>\n",
       "      <td>42454.7873</td>\n",
       "      <td>44.298246</td>\n",
       "    </tr>\n",
       "  </tbody>\n",
       "</table>\n",
       "</div>"
      ],
      "text/plain": [
       "                  species     mass  molecular_weight  gc_content\n",
       "0          Ursus spelaeus  550.800        42458.7992   43.771930\n",
       "1            Ursus arctos  203.500        42414.7435   43.771930\n",
       "2        Ursus thibetanus   99.714        42306.6735   45.614035\n",
       "3        Melursus ursinus  100.030        42551.9900   45.175439\n",
       "4        Ursus americanus  110.560        42427.7439   43.947368\n",
       "5     Helarctos malayanus   47.020        42560.8910   44.298246\n",
       "6  Ailuropoda melanoleuca  118.200        42702.1845   40.789474\n",
       "7      Tremarctos ornatus  140.700        42384.8266   44.385965\n",
       "8         Ursus maritimus  425.100        42454.7873   44.298246"
      ]
     },
     "execution_count": 16,
     "metadata": {},
     "output_type": "execute_result"
    }
   ],
   "source": [
    "bears_df # view the dataframe"
   ]
  },
  {
   "cell_type": "markdown",
   "metadata": {},
   "source": [
    "# 8 #\n",
    "### BAR-CHART OF THE MASS WITH THE X-AXES LABLED WITH SPECIES NAMES ###"
   ]
  },
  {
   "cell_type": "code",
   "execution_count": 17,
   "metadata": {},
   "outputs": [
    {
     "name": "stderr",
     "output_type": "stream",
     "text": [
      "/Users/admin/opt/anaconda3/lib/python3.8/site-packages/seaborn/_decorators.py:36: FutureWarning: Pass the following variables as keyword args: x, y. From version 0.12, the only valid positional argument will be `data`, and passing other arguments without an explicit keyword will result in an error or misinterpretation.\n",
      "  warnings.warn(\n"
     ]
    },
    {
     "data": {
      "text/plain": [
       "Text(0, 0.5, 'Mass')"
      ]
     },
     "execution_count": 17,
     "metadata": {},
     "output_type": "execute_result"
    },
    {
     "data": {
      "image/png": "[encoded data removed]",
      "text/plain": [
       "<Figure size 1800x720 with 1 Axes>"
      ]
     },
     "metadata": {
      "needs_background": "light"
     },
     "output_type": "display_data"
    }
   ],
   "source": [
    "fig, ax = plt.subplots(figsize = (25, 10)) # add dimensions to the graph\n",
    "\n",
    "# bar-chart of mass against species\n",
    "# color=(0.9, 0.1, 0.7, 0.9) set the color of the plot\n",
    "# edgecolor='black' set the edges of the bars to black\n",
    "sns.barplot('species','mass', data = bears_df, color = (0.9, 0.1, 0.7, 0.9), edgecolor = 'black')\n",
    "\n",
    "plt.title('Bar-chart of the mass against species') # set the title\n",
    "plt.xlabel('Species') # set the X axis label\n",
    "plt.ylabel('Mass') # set the Y axis label"
   ]
  },
  {
   "cell_type": "markdown",
   "metadata": {},
   "source": [
    "*Q1* What is the largest bear species? "
   ]
  },
  {
   "cell_type": "markdown",
   "metadata": {},
   "source": [
    "***Ursus spelaeus* is the largest bear species**"
   ]
  },
  {
   "cell_type": "markdown",
   "metadata": {},
   "source": [
    "*Q2* What else is interesting about this species?"
   ]
  },
  {
   "cell_type": "markdown",
   "metadata": {},
   "source": [
    "**The common name of *Ursus spelaeus* is cave bear and it has lived during the Pleistocene and it has become extinct during the Last Glacial Maximum. According to Mattson 2019, *Ursus spealaeus* is more closely related to *Ursus arctos* and *Ursus maritimus*. It is interesting to see that those two species are the ones which have next highest masses. But however, according to the paper, Ursus arctos is the most closely related one than Ursus maritimus.**\n",
    "\n",
    "**Refernece: Mattson, David. (2019). Comments on the US Fish & Wildlife Service proposal to remove grizzly bears in the Yellowstone ecosystem from the list of endangered and threatened wildlife protected under the US Endangered Species Act (ESA); Federal Register 81(48): 13174-13227.**"
   ]
  },
  {
   "cell_type": "markdown",
   "metadata": {},
   "source": [
    "# 9 #\n",
    "### VISUALIZATION OF THE MOLECULAR WEIGHT (Y-AXIS) AS A FUNCTION OF GC-CONTENT (X-AXIS)"
   ]
  },
  {
   "cell_type": "code",
   "execution_count": 18,
   "metadata": {},
   "outputs": [
    {
     "data": {
      "text/plain": [
       "Text(-6.289999999999999, 0.5, 'Molecular Weight')"
      ]
     },
     "execution_count": 18,
     "metadata": {},
     "output_type": "execute_result"
    },
    {
     "data": {
      "image/png": "[encoded data removed]",
      "text/plain": [
       "<Figure size 504x504 with 1 Axes>"
      ]
     },
     "metadata": {},
     "output_type": "display_data"
    }
   ],
   "source": [
    "import seaborn as sns; sns.set_theme(color_codes=True)\n",
    "\n",
    "# plot the graph\n",
    "# line_kws={'color': 'red'} gives Red color to the line\n",
    "# height and aspect give the size and dimension to the graph\n",
    "fig, sns.lmplot(data = bears_df, x = 'gc_content', y = 'molecular_weight', height = 7, aspect =1, line_kws={'color': 'red'})\n",
    "\n",
    "plt.title('Molecular weight as a function of GC-content') # set the title\n",
    "plt.xlabel('GC content') # set the X axis label\n",
    "plt.ylabel('Molecular Weight') # set the Y axis label"
   ]
  },
  {
   "cell_type": "markdown",
   "metadata": {},
   "source": [
    "# 10 #\n",
    "### SAVING THE NEW DATAFRAME TO A FILE ###"
   ]
  },
  {
   "cell_type": "code",
   "execution_count": 19,
   "metadata": {},
   "outputs": [],
   "source": [
    "bears_df.to_csv(\"bears_mass_cytb.csv\", index = False)"
   ]
  },
  {
   "cell_type": "markdown",
   "metadata": {},
   "source": [
    "# 11 - BONUS #\n",
    "## POLTTING THE AMINO ACID DISTRIBUTION OF THE SEQUENCE\n",
    "### TRANSLATE THE NA SEQUENCE USING A DIFFERENT APPROACH ###"
   ]
  },
  {
   "cell_type": "code",
   "execution_count": 20,
   "metadata": {},
   "outputs": [
    {
     "name": "stderr",
     "output_type": "stream",
     "text": [
      "/Users/admin/opt/anaconda3/lib/python3.8/site-packages/Bio/Seq.py:2334: BiopythonWarning: Partial codon, len(sequence) not a multiple of three. Explicitly trim the sequence or add trailing N before translation. This may become an error in future.\n",
      "  warnings.warn(\n"
     ]
    }
   ],
   "source": [
    "from Bio.SeqRecord import SeqRecord\n",
    "\n",
    "with open(\"aa_seq.fasta\", 'w') as aa_fa: # open the file to be written the resulting AA sequence\n",
    "    for dna_record in SeqIO.parse(\"bears_cytb.fasta\", 'fasta'): # get the sequences\n",
    "        \n",
    "        dna_seqs = [dna_record.seq, dna_record.seq.reverse_complement()] # use both fwd and rev sequences\n",
    "\n",
    "        aa_seqs = (s[i:].translate(to_stop=True) for i in range(3) for s in dna_seqs) # generate all translation frames\n",
    "\n",
    "        max_aa = max(aa_seqs, key=len) # select the longest one\n",
    "\n",
    "        aa_record = SeqRecord(max_aa, id=dna_record.id, description=\"translated sequence\") # write new record\n",
    "        SeqIO.write(aa_record, aa_fa, 'fasta')"
   ]
  },
  {
   "cell_type": "markdown",
   "metadata": {},
   "source": [
    "### GET THE TRANSLATED AMINO ACID SEQUENCES ###"
   ]
  },
  {
   "cell_type": "code",
   "execution_count": 21,
   "metadata": {},
   "outputs": [
    {
     "name": "stdout",
     "output_type": "stream",
     "text": [
      "{'>AB020907.1 translated sequence': 'MTNIRKTHPLAKIINNSLIDLPTPSNISA',\n",
      " '>AB360958.1 translated sequence': 'MTNIRKTHPLAKIINNSLIDLPAPSNISA',\n",
      " '>AF264047.1 translated sequence': 'MTNIRKTHPLAKIINNSFIDLPTPSNISA',\n",
      " '>AF268271.1 translated sequence': 'MTNIRKTHPLAKIINNSLIDLPTPSNISA',\n",
      " '>EU567096.1 translated sequence': 'MTNIRKTHPLAKIINNSFIDLPTPSNISA',\n",
      " '>U18899.1 translated sequence': 'MTNIRKTHPLAKIINNSLIDLPAPSNISA',\n",
      " '>U23552.1 translated sequence': 'MINIRKTHPLVKIINNSFIDLPTPSNIST',\n",
      " '>U23554.1 translated sequence': 'MTNIRKTHPLAKIINSSFIDLPTPSNISA',\n",
      " '>U23562.1 translated sequence': 'MTNIRKTHPLAKIINNSLIDLPAPSNISA'}\n"
     ]
    }
   ],
   "source": [
    "import pprint\n",
    "\n",
    "with open('aa_seq.fasta') as f: # open the translated amino acid sequence\n",
    "    ret = {}\n",
    "\n",
    "    all_aa = '' # empty variable for all_aa\n",
    "    aa = '' # empty variable for amino acids\n",
    "    description_line = '' # empty variable for description line\n",
    "    for l in f:\n",
    "        l = l.strip() # removes any leading (spaces at the beginning) and trailing (spaces at the end) characters\n",
    "        if l.startswith('>'): # start with the '>' symbol\n",
    "            # get the description line\n",
    "            if aa:\n",
    "                ret[description_line] = aa\n",
    "                aa = ''\n",
    "            description_line = l\n",
    "        else:\n",
    "            aa += l\n",
    "            all_aa += l\n",
    "    if aa:\n",
    "        ret[description_line] = aa\n",
    "\n",
    "pprint.pprint(ret) # return the sequences"
   ]
  },
  {
   "cell_type": "markdown",
   "metadata": {},
   "source": [
    "### COUNT THE NUMBER OF AMINO ACIDS IN THE SEQUENCE ###"
   ]
  },
  {
   "cell_type": "code",
   "execution_count": 22,
   "metadata": {},
   "outputs": [
    {
     "name": "stdout",
     "output_type": "stream",
     "text": [
      "Counter({'I': 46, 'N': 35, 'S': 28, 'P': 27, 'T': 24, 'L': 23, 'A': 19, 'K': 18, 'M': 9, 'R': 9, 'H': 9, 'D': 9, 'F': 4, 'V': 1})\n"
     ]
    }
   ],
   "source": [
    "from collections import Counter\n",
    "aa_count = (Counter(all_aa)) # count the amino acids\n",
    "print (aa_count) # print the counted amino acids"
   ]
  },
  {
   "cell_type": "markdown",
   "metadata": {},
   "source": [
    "### PLOTTING THE AMINO ACID DISTRIBUTION ###"
   ]
  },
  {
   "cell_type": "code",
   "execution_count": 23,
   "metadata": {},
   "outputs": [
    {
     "data": {
      "image/png": "[encoded data removed]",
      "text/plain": [
       "<Figure size 1080x720 with 1 Axes>"
      ]
     },
     "metadata": {},
     "output_type": "display_data"
    }
   ],
   "source": [
    "from collections import Counter\n",
    "import numpy as np\n",
    "import matplotlib.pyplot as plt\n",
    "\n",
    "labels, values = zip(*aa_count.items()) # get the values and labels\n",
    "\n",
    "indexes = np.arange(len(labels)) # make the indices\n",
    "width = 1 # set the width\n",
    "\n",
    "fig, ax = plt.subplots(figsize = (15, 10)) # add dimensions to the graph\n",
    "\n",
    "plt.bar(indexes, values, width) # plot the bar chart\n",
    "plt.xticks(indexes + width * 0.5, labels) # get and set the current tick locations and labels of the x-axis\n",
    "plt.show() # shows the plot"
   ]
  },
  {
   "cell_type": "code",
   "execution_count": null,
   "metadata": {},
   "outputs": [],
   "source": []
  }
 ],
 "metadata": {
  "kernelspec": {
   "display_name": "Python 3",
   "language": "python",
   "name": "python3"
  },
  "language_info": {
   "codemirror_mode": {
    "name": "ipython",
    "version": 3
   },
   "file_extension": ".py",
   "mimetype": "text/x-python",
   "name": "python",
   "nbconvert_exporter": "python",
   "pygments_lexer": "ipython3",
   "version": "3.8.5"
  }
 },
 "nbformat": 4,
 "nbformat_minor": 4
}
